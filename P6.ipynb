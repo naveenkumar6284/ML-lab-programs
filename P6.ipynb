{
 "cells": [
  {
   "cell_type": "code",
   "execution_count": 1,
   "metadata": {},
   "outputs": [],
   "source": [
    "from sklearn.datasets import fetch_20newsgroups"
   ]
  },
  {
   "cell_type": "code",
   "execution_count": 2,
   "metadata": {},
   "outputs": [],
   "source": [
    "categories = ['alt.atheism', 'soc.religion.christian','comp.graphics', 'sci.med']\n",
    "train = fetch_20newsgroups(subset='train',categories=categories,shuffle=True)\n",
    "test = fetch_20newsgroups(subset='test',categories=categories,shuffle=True)"
   ]
  },
  {
   "cell_type": "code",
   "execution_count": 3,
   "metadata": {},
   "outputs": [],
   "source": [
    "from sklearn.feature_extraction.text import CountVectorizer"
   ]
  },
  {
   "cell_type": "code",
   "execution_count": 4,
   "metadata": {},
   "outputs": [
    {
     "output_type": "execute_result",
     "data": {
      "text/plain": [
       "(2257, 35788)"
      ]
     },
     "metadata": {},
     "execution_count": 4
    }
   ],
   "source": [
    "count_vect = CountVectorizer()\n",
    "X_train_tf = count_vect.fit_transform(train.data)\n",
    "from sklearn.feature_extraction.text import TfidfTransformer\n",
    "tfidf_transformer = TfidfTransformer()\n",
    "X_train_tfidf = tfidf_transformer.fit_transform(X_train_tf)\n",
    "X_train_tfidf.shape\n"
   ]
  },
  {
   "cell_type": "code",
   "execution_count": 5,
   "metadata": {},
   "outputs": [],
   "source": [
    "from sklearn.naive_bayes import MultinomialNB\n",
    "from sklearn import metrics\n"
   ]
  },
  {
   "cell_type": "code",
   "execution_count": 6,
   "metadata": {},
   "outputs": [
    {
     "output_type": "stream",
     "name": "stdout",
     "text": [
      "Accuracy: 0.8348868175765646\n                        precision    recall  f1-score   support\n\n           alt.atheism       0.97      0.60      0.74       319\n         comp.graphics       0.96      0.89      0.92       389\n               sci.med       0.97      0.81      0.88       396\nsoc.religion.christian       0.65      0.99      0.78       398\n\n              accuracy                           0.83      1502\n             macro avg       0.89      0.82      0.83      1502\n          weighted avg       0.88      0.83      0.84      1502\n\nconfusion matrix is \n [[192   2   6 119]\n [  2 347   4  36]\n [  2  11 322  61]\n [  2   2   1 393]]\n"
     ]
    }
   ],
   "source": [
    "mod = MultinomialNB()\n",
    "mod.fit(X_train_tfidf, train.target)\n",
    "X_test_tf = count_vect.transform(test.data)\n",
    "X_test_tfidf = tfidf_transformer.transform(X_test_tf)\n",
    "predicted = mod.predict(X_test_tfidf)\n",
    "print(\"Accuracy:\", metrics.accuracy_score(test.target, predicted))\n",
    "print(metrics.classification_report(test.target,predicted,target_names=test.target_names))\n",
    "print(\"confusion matrix is \\n\",metrics.confusion_matrix(test.target, predicted))"
   ]
  }
 ],
 "metadata": {
  "kernelspec": {
   "display_name": "Python 3",
   "language": "python",
   "name": "python3"
  },
  "language_info": {
   "codemirror_mode": {
    "name": "ipython",
    "version": 3
   },
   "file_extension": ".py",
   "mimetype": "text/x-python",
   "name": "python",
   "nbconvert_exporter": "python",
   "pygments_lexer": "ipython3",
   "version": "3.8.5-final"
  }
 },
 "nbformat": 4,
 "nbformat_minor": 4
}