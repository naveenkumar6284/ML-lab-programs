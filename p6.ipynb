{
  "cells":[
    {
      "cell_type":"code",
      "source":[
        "from sklearn.datasets import fetch_20newsgroups\n",
        "from sklearn.naive_bayes import MultinomialNB\n",
        "from sklearn.feature_extraction.text import CountVectorizer, TfidfTransformer\n",
        "from sklearn.metrics import accuracy_score,confusion_matrix, classification_report\n",
        "from sklearn import metrics\n",
        "import pandas as pd"
      ],
      "execution_count":32,
      "outputs":[
        
      ],
      "metadata":{
        
      }
    },
    {
      "cell_type":"code",
      "source":[
        "categories = ['alt.atheism', 'soc.religion.christian', 'comp.graphics', 'sci.med']\n",
        "train_data = fetch_20newsgroups(subset='train', categories=categories, shuffle=True)\n",
        "test_data = fetch_20newsgroups(subset='test', categories=categories, shuffle=True)"
      ],
      "execution_count":33,
      "outputs":[
        
      ],
      "metadata":{
        
      }
    },
    {
      "cell_type":"code",
      "source":[
        "count_vector = CountVectorizer()\n",
        "X_train_tf = count_vector.fit_transform(train_data.data)\n",
        "X_test_tf = count_vector.transform(test_data.data)"
      ],
      "execution_count":34,
      "outputs":[
        
      ],
      "metadata":{
        
      }
    },
    {
      "cell_type":"code",
      "source":[
        "tfidf_transform = TfidfTransformer()\n",
        "X_train_tfidf = tfidf_transform.fit_transform(X_train_tf)\n",
        "X_test_tfidf = tfidf_transform.transform(X_test_tf)"
      ],
      "execution_count":35,
      "outputs":[
        
      ],
      "metadata":{
        
      }
    },
    {
      "cell_type":"code",
      "source":[
        "model = MultinomialNB().fit(X_train_tfidf, train_data.target)"
      ],
      "execution_count":37,
      "outputs":[
        
      ],
      "metadata":{
        
      }
    },
    {
      "cell_type":"code",
      "source":[
        "predicted = model.predict(X_test_tfidf)\n",
        "print(accuracy_score(test_data.target, predicted))\n",
        "print(classification_report(test_data.target, predicted, target_names=test_data.target_names))\n",
        "print(confusion_matrix(test_data.target, predicted))"
      ],
      "execution_count":38,
      "outputs":[
        {
          "name":"stdout",
          "text":[
            "0.8348868175765646\n",
            "                        precision    recall  f1-score   support\n",
            "\n",
            "           alt.atheism       0.97      0.60      0.74       319\n",
            "         comp.graphics       0.96      0.89      0.92       389\n",
            "               sci.med       0.97      0.81      0.88       396\n",
            "soc.religion.christian       0.65      0.99      0.78       398\n",
            "\n",
            "              accuracy                           0.83      1502\n",
            "             macro avg       0.89      0.82      0.83      1502\n",
            "          weighted avg       0.88      0.83      0.84      1502\n",
            "\n",
            "[[192   2   6 119]\n",
            " [  2 347   4  36]\n",
            " [  2  11 322  61]\n",
            " [  2   2   1 393]]\n"
          ],
          "output_type":"stream"
        }
      ],
      "metadata":{
        
      }
    }
  ],
  "metadata":{
    
  },
  "nbformat":4,
  "nbformat_minor":0
}