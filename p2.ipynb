{
 "metadata": {
  "language_info": {
   "codemirror_mode": {
    "name": "ipython",
    "version": 3
   },
   "file_extension": ".py",
   "mimetype": "text/x-python",
   "name": "python",
   "nbconvert_exporter": "python",
   "pygments_lexer": "ipython3",
   "version": "3.7.4-final"
  },
  "orig_nbformat": 2,
  "kernelspec": {
   "name": "python3",
   "display_name": "Python 3"
  }
 },
 "nbformat": 4,
 "nbformat_minor": 2,
 "cells": [
  {
   "cell_type": "code",
   "execution_count": 1,
   "metadata": {},
   "outputs": [],
   "source": [
    "import csv"
   ]
  },
  {
   "cell_type": "code",
   "execution_count": 2,
   "metadata": {},
   "outputs": [],
   "source": [
    "def get_domains(examples):\n",
    " d = [set() for i in examples[0]]\n",
    " for x in examples:\n",
    "  for i, xi in enumerate(x):\n",
    "    d[i].add(xi)\n",
    " return [list(sorted(x)) for x in d]"
   ]
  },
  {
   "cell_type": "code",
   "execution_count": 3,
   "metadata": {},
   "outputs": [],
   "source": [
    "def fulfills(example, hypothesis):\n",
    " return more_general(hypothesis, example)"
   ]
  },
  {
   "cell_type": "code",
   "execution_count": 4,
   "metadata": {},
   "outputs": [],
   "source": [
    "def min_generalizations(h, x):\n",
    " h_new = list(h)\n",
    " for i in range(len(h)):\n",
    "  if not fulfills(x[i:i+1], h[i:i+1]):\n",
    "    h_new[i] = '?' if h[i] != '0' else x[i]\n",
    " return [tuple(h_new)]"
   ]
  },
  {
   "cell_type": "code",
   "execution_count": 5,
   "metadata": {},
   "outputs": [],
   "source": [
    "def min_specializations(h, domains, x):\n",
    " results = []\n",
    " for i in range(len(h)):\n",
    "  if h[i] == \"?\":\n",
    "   for val in domains[i]:\n",
    "    if x[i] != val:\n",
    "     h_new = h[:i] + (val,) + h[i+1:]\n",
    "     results.append(h_new)\n",
    "  elif h[i] != \"0\":\n",
    "   h_new = h[:i] + ('0',) + h[i+1:]\n",
    "   results.append(h_new)\n",
    " return results"
   ]
  },
  {
   "cell_type": "code",
   "execution_count": 6,
   "metadata": {},
   "outputs": [],
   "source": [
    "def generalize_S(x, G, S):\n",
    " S_prev = list(S)\n",
    " for s in S_prev:\n",
    "  if s not in S:\n",
    "   continue\n",
    "  if not fulfills(x, s):\n",
    "   S.remove(s)\n",
    "   Splus = min_generalizations(s, x)\n",
    "   S.update([h for h in Splus if any([more_general(g,h)for g in G])])\n",
    "   S.difference_update([h for h in S if any([more_general(h, h1) for h1 in S if h != h1])])\n",
    " return S"
   ]
  },
  {
   "cell_type": "code",
   "execution_count": 7,
   "metadata": {},
   "outputs": [],
   "source": [
    "def specialize_G(x, domains, G, S):\n",
    " G_prev = list(G)\n",
    " for g in G_prev:\n",
    "  if g not in G:\n",
    "   continue\n",
    "  if fulfills(x, g):\n",
    "   G.remove(g)\n",
    "   Gminus = min_specializations(g, domains, x)\n",
    "   G.update([h for h in Gminus if any([more_general(h, s)for s in S])])\n",
    "   G.difference_update([h for h in G if any([more_general(g1, h) for g1 in G if h != g1])])\n",
    " return G"
   ]
  },
  {
   "cell_type": "code",
   "execution_count": 8,
   "metadata": {},
   "outputs": [],
   "source": [
    "def more_general(h1, h2):\n",
    " more_general_parts = []\n",
    " for x, y in zip(h1, h2):\n",
    "  mg = x == \"?\" or (x != \"0\" and (x == y or y == \"0\"))\n",
    "  more_general_parts.append(mg)\n",
    " return all(more_general_parts)"
   ]
  },
  {
   "cell_type": "code",
   "execution_count": 9,
   "metadata": {},
   "outputs": [],
   "source": [
    "def candidate_elimination(examples):\n",
    " domains = get_domains(examples)[:-1]\n",
    " n = len(domains)\n",
    " G = set([(\"?\",)*n])\n",
    " S = set([(\"0\",)*n])\n",
    " print(\"Maximally specific hypotheses - S \")\n",
    " print(\"Maximally general hypotheses - G \")\n",
    " i=0\n",
    " print(\"\\nS[0]:\",str(S),\"\\nG[0]:\",str(G))\n",
    " for xcx in examples:\n",
    "  i=i+1\n",
    "  x, cx = xcx[:-1], xcx[-1] \n",
    "  if cx=='Y': \n",
    "   G = {g for g in G if fulfills(x, g)}\n",
    "   S = generalize_S(x, G, S)\n",
    "  else: \n",
    "   S = {s for s in S if not fulfills(x, s)}\n",
    "   G = specialize_G(x, domains, G, S)\n",
    "  print(\"\\nS[{0}]:\".format(i),S)\n",
    "  print(\"G[{0}]:\".format(i),G)\n",
    " return"
   ]
  },
  {
   "cell_type": "code",
   "execution_count": 10,
   "metadata": {},
   "outputs": [
    {
     "output_type": "stream",
     "name": "stdout",
     "text": [
      "Maximally specific hypotheses - S \nMaximally general hypotheses - G \n\nS[0]: {('0', '0', '0', '0', '0', '0')} \nG[0]: {('?', '?', '?', '?', '?', '?')}\n\nS[1]: {('Sunny', 'Warm', 'Normal', 'Strong', 'Warm', 'Same')}\nG[1]: {('?', '?', '?', '?', '?', '?')}\n\nS[2]: {('Sunny', 'Warm', '?', 'Strong', 'Warm', 'Same')}\nG[2]: {('?', '?', '?', '?', '?', '?')}\n\nS[3]: {('Sunny', 'Warm', '?', 'Strong', 'Warm', 'Same')}\nG[3]: {('?', '?', '?', '?', '?', 'Same'), ('Sunny', '?', '?', '?', '?', '?'), ('?', 'Warm', '?', '?', '?', '?')}\n\nS[4]: {('Sunny', 'Warm', '?', 'Strong', '?', '?')}\nG[4]: {('Sunny', '?', '?', '?', '?', '?'), ('?', 'Warm', '?', '?', '?', '?')}\n"
     ]
    }
   ],
   "source": [
    "with open('program2.csv') as csvFile:\n",
    "    examples = [tuple(line) for line in csv.reader(csvFile)]\n",
    "    candidate_elimination(examples)"
   ]
  }
 ]
}