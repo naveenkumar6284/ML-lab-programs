{
 "metadata": {
  "language_info": {
   "codemirror_mode": {
    "name": "ipython",
    "version": 3
   },
   "file_extension": ".py",
   "mimetype": "text/x-python",
   "name": "python",
   "nbconvert_exporter": "python",
   "pygments_lexer": "ipython3",
   "version": "3.7.4-final"
  },
  "orig_nbformat": 2,
  "kernelspec": {
   "name": "python3",
   "display_name": "Python 3"
  }
 },
 "nbformat": 4,
 "nbformat_minor": 2,
 "cells": [
  {
   "cell_type": "code",
   "execution_count": 1,
   "metadata": {},
   "outputs": [],
   "source": [
    "import math\n",
    "import csv"
   ]
  },
  {
   "cell_type": "code",
   "execution_count": 2,
   "metadata": {},
   "outputs": [],
   "source": [
    "def load_csv(filename):\n",
    " lines = csv.reader(open(filename, \"r\"));\n",
    " dataset = list(lines)\n",
    " headers = dataset.pop(0)\n",
    " return dataset, headers"
   ]
  },
  {
   "cell_type": "code",
   "execution_count": 3,
   "metadata": {},
   "outputs": [],
   "source": [
    "class Node:\n",
    " def __init__(self, attribute):\n",
    "  self.attribute = attribute\n",
    "  self.children = []\n",
    "  self.answer = \"\""
   ]
  },
  {
   "cell_type": "code",
   "execution_count": 4,
   "metadata": {},
   "outputs": [],
   "source": [
    "def subtables(data, col, delete):\n",
    " dic = {}\n",
    " coldata = [ row[col] for row in data]\n",
    " attr = list(set(coldata))\n",
    " counts = [0]*len(attr)\n",
    " r = len(data)\n",
    " c = len(data[0])\n",
    " for x in range(len(attr)):\n",
    "     for y in range(r):\n",
    "         if data[y][col] == attr[x]:\n",
    "             counts[x] += 1\n",
    " for x in range(len(attr)):\n",
    "     dic[attr[x]] = [[0 for i in range(c)] for j in range(counts[x])]\n",
    "     pos = 0\n",
    "     for y in range(r):\n",
    "      if data[y][col] == attr[x]:\n",
    "         if delete:\n",
    "             del data[y][col]\n",
    "         dic[attr[x]][pos] = data[y]\n",
    "         pos += 1\n",
    " return attr, dic"
   ]
  },
  {
   "cell_type": "code",
   "execution_count": 5,
   "metadata": {},
   "outputs": [],
   "source": [
    "def entropy(S):\n",
    " attr = list(set(S))\n",
    " if len(attr) == 1:\n",
    "     return 0\n",
    " counts = [0,0]\n",
    " for i in range(2):\n",
    "     counts[i] = sum( [1 for x in S if attr[i] == x] ) / (len(S) * 1.0)\n",
    " sums = 0\n",
    " for cnt in counts:\n",
    "     sums += -1 * cnt * math.log(cnt, 2)\n",
    " return sums"
   ]
  },
  {
   "cell_type": "code",
   "execution_count": 6,
   "metadata": {},
   "outputs": [],
   "source": [
    "def compute_gain(data, col):\n",
    " attValues, dic = subtables(data, col, delete=False)\n",
    " total_entropy = entropy([row[-1] for row in data])\n",
    " for x in range(len(attValues)):\n",
    "     ratio = len(dic[attValues[x]]) / ( len(data) * 1.0)\n",
    "     entro = entropy([row[-1] for row in dic[attValues[x]]])\n",
    "     total_entropy -= ratio*entro\n",
    " return total_entropy"
   ]
  },
  {
   "cell_type": "code",
   "execution_count": 7,
   "metadata": {},
   "outputs": [],
   "source": [
    "def build_tree(data, features):\n",
    " lastcol = [row[-1] for row in data]\n",
    " if(len(set(lastcol))) == 1:\n",
    "  node=Node(\"\")\n",
    "  node.answer = lastcol[0]\n",
    "  return node\n",
    " n = len(data[0])-1\n",
    " gains = [0]*n\n",
    " for col in range(n):\n",
    "  gains[col] = compute_gain(data, col)\n",
    " split = gains.index(max(gains)) \n",
    " node = Node(features[split])\n",
    " fea = features[:split]+features[split+1:]\n",
    " attr, dic = subtables(data, split, delete=True) \n",
    " for x in range(len(attr)):\n",
    "  child = build_tree(dic[attr[x]], fea)\n",
    "  node.children.append((attr[x], child))\n",
    " return node"
   ]
  },
  {
   "cell_type": "code",
   "execution_count": 8,
   "metadata": {},
   "outputs": [],
   "source": [
    "def print_tree(node, level):\n",
    " if node.answer != \"\":\n",
    "  print(\" \"*level, node.answer)\n",
    "  return\n",
    " print(\" \"*level, node.attribute) # Displays attribute Name\n",
    " for value, n in node.children:\n",
    "  print_tree(n, level + 2)"
   ]
  },
  {
   "cell_type": "code",
   "execution_count": 9,
   "metadata": {},
   "outputs": [
    {
     "output_type": "stream",
     "name": "stdout",
     "text": [
      "features ---------- ['outlook', 'temperature', 'humidity', 'windy', 'play']\nThe decision tree for the dataset using ID3 algorithm is \n outlook\n   yes\n   humidity\n     yes\n     temperature\n       yes\n       es\n     windy\n       no\n       yes\n   humidity\n     yes\n     no\nThe test instance :  ['sunny', 'hot', 'high', 'false', 'no']\nThe predicted label : x_test[pos] ----- sunny\nvalue ----- sunny\nx_test[pos] ----- high\nvalue ----- high\nno\nThe test instance :  ['sunny', 'hot', 'high', 'true', 'no']\nThe predicted label : x_test[pos] ----- sunny\nvalue ----- sunny\nx_test[pos] ----- high\nvalue ----- high\nno\nThe test instance :  ['overcast', 'hot', 'high', 'false', 'yes']\nThe predicted label : x_test[pos] ----- overcast\nvalue ----- overcast\nyes\nThe test instance :  ['rainy', 'mild', 'high', 'false', 'yes']\nThe predicted label : x_test[pos] ----- rainy\nvalue ----- rainy\nx_test[pos] ----- high\nvalue ----- high\nx_test[pos] ----- false\nvalue ----- false\nyes\nThe test instance :  ['rainy', 'cool', 'normal', 'false', 'es']\nThe predicted label : x_test[pos] ----- rainy\nvalue ----- rainy\nx_test[pos] ----- normal\nvalue ----- normal\nx_test[pos] ----- cool\nvalue ----- cool\nes\nThe test instance :  ['rainy', 'cool', 'normal0', 'true', 'yes']\nThe predicted label : x_test[pos] ----- rainy\nvalue ----- rainy\nx_test[pos] ----- normal0\nvalue ----- normal0\nyes\nThe test instance :  ['overcast', 'cool', 'normal', 'true', 'yes']\nThe predicted label : x_test[pos] ----- overcast\nvalue ----- overcast\nyes\nThe test instance :  ['sunny', 'mild', 'high', 'false', 'no']\nThe predicted label : x_test[pos] ----- sunny\nvalue ----- sunny\nx_test[pos] ----- high\nvalue ----- high\nno\nThe test instance :  ['sunny', 'cool', 'normal', 'falase', 'yes']\nThe predicted label : x_test[pos] ----- sunny\nvalue ----- sunny\nx_test[pos] ----- normal\nvalue ----- normal\nyes\nThe test instance :  ['rainy', 'mild', 'normal', 'false', 'yes']\nThe predicted label : x_test[pos] ----- rainy\nvalue ----- rainy\nx_test[pos] ----- normal\nvalue ----- normal\nx_test[pos] ----- mild\nvalue ----- mild\nyes\nThe test instance :  ['sunny', 'mild', 'normal', 'true', 'yes']\nThe predicted label : x_test[pos] ----- sunny\nvalue ----- sunny\nx_test[pos] ----- normal\nvalue ----- normal\nyes\nThe test instance :  ['overcast', 'mild', 'high', 'true', 'yes']\nThe predicted label : x_test[pos] ----- overcast\nvalue ----- overcast\nyes\nThe test instance :  ['overcast', 'hot', 'normal', 'false', 'yes']\nThe predicted label : x_test[pos] ----- overcast\nvalue ----- overcast\nyes\nThe test instance :  ['rainy', 'mild', 'high', 'true', 'no']\nThe predicted label : x_test[pos] ----- rainy\nvalue ----- rainy\nx_test[pos] ----- high\nvalue ----- high\nx_test[pos] ----- true\nvalue ----- true\nno\n"
     ]
    }
   ],
   "source": [
    "def classify(node,x_test,features):\n",
    " if node.answer != \"\":\n",
    "  print(node.answer)\n",
    "  return\n",
    " pos = features.index(node.attribute)\n",
    " for value, n in node.children:\n",
    "  if x_test[pos]==value:\n",
    "   print('x_test[pos] -----',x_test[pos])\n",
    "   print('value -----',value)\n",
    "   classify(n,x_test,features)\n",
    "\n",
    "dataset, features = load_csv(\"p3.csv\")\n",
    "print('features ----------',features)\n",
    "node = build_tree(dataset, features) \n",
    "print(\"The decision tree for the dataset using ID3 algorithm is \")\n",
    "print_tree(node, 0)\n",
    "testdata, features = load_csv(\"program3.csv\")\n",
    "for xtest in testdata:\n",
    " print(\"The test instance : \",xtest) \n",
    " print(\"The predicted label : \", end=\"\")\n",
    " classify(node,xtest,features)"
   ]
  }
 ]
}