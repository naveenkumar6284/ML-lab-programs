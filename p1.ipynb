{
 "metadata": {
  "language_info": {
   "codemirror_mode": {
    "name": "ipython",
    "version": 3
   },
   "file_extension": ".py",
   "mimetype": "text/x-python",
   "name": "python",
   "nbconvert_exporter": "python",
   "pygments_lexer": "ipython3",
   "version": "3.7.4-final"
  },
  "orig_nbformat": 2,
  "kernelspec": {
   "name": "python3",
   "display_name": "Python 3"
  }
 },
 "nbformat": 4,
 "nbformat_minor": 2,
 "cells": [
  {
   "cell_type": "code",
   "execution_count": 1,
   "metadata": {},
   "outputs": [
    {
     "output_type": "stream",
     "name": "stdout",
     "text": [
      "\nThe given training examples are:\n['Sunny', 'Warm', 'Normal', 'Strong', 'Warm', 'Same', 'Y']\n['Sunny', 'Warm', 'High', 'Strong', 'Warm', 'Same', 'Y']\n['Rainy', 'Cold', 'High', 'Strong', 'Warm', 'Change', 'N']\n['Sunny', 'Warm', 'High', 'Strong', 'Cool', 'Change', 'Y']\n['Sunny', 'Warm', 'Normal', 'Strong', 'Warm', 'Same', 'Y']\n['Sunny', 'Warm', 'High', 'Strong', 'Warm', 'Same', 'Y']\n['Rainy', 'Cold', 'High', 'Strong', 'Warm', 'Change', 'N']\n['Rainy', 'Warm', 'High', 'Strong', 'Cool', 'Change', 'Y']\n['Sunny', 'Warm', 'Normal', 'Strong', 'Warm', 'Same', 'Y']\n['Sunny', 'Warm', 'High', 'Light', 'Warm', 'Same', 'Y']\n['Rainy', 'Cold', 'High', 'Strong', 'Warm', 'Change', 'N']\n['Sunny', 'Warm', 'High', 'Strong', 'Cool', 'Change', 'Y']\n\nThe positive examples are:\n['Sunny', 'Warm', 'Normal', 'Strong', 'Warm', 'Same', 'Y']\n['Sunny', 'Warm', 'High', 'Strong', 'Warm', 'Same', 'Y']\n['Sunny', 'Warm', 'High', 'Strong', 'Cool', 'Change', 'Y']\n['Sunny', 'Warm', 'Normal', 'Strong', 'Warm', 'Same', 'Y']\n['Sunny', 'Warm', 'High', 'Strong', 'Warm', 'Same', 'Y']\n['Rainy', 'Warm', 'High', 'Strong', 'Cool', 'Change', 'Y']\n['Sunny', 'Warm', 'Normal', 'Strong', 'Warm', 'Same', 'Y']\n['Sunny', 'Warm', 'High', 'Light', 'Warm', 'Same', 'Y']\n['Sunny', 'Warm', 'High', 'Strong', 'Cool', 'Change', 'Y']\n\n\n"
     ]
    }
   ],
   "source": [
    "import csv\n",
    "hypo=['%','%','%','%','%','%'];\n",
    "\n",
    "with open('program1.csv') as csv_file:\n",
    "    readcsv = csv.reader(csv_file, delimiter=',')\n",
    "    data = []\n",
    "    print(\"\\nThe given training examples are:\")\n",
    "    for row in readcsv:\n",
    "        print(row)\n",
    "        if row[len(row)-1].upper() == \"Y\":\n",
    "            data.append(row)\n",
    "            \n",
    "print(\"\\nThe positive examples are:\")\n",
    "for x in data:\n",
    "    print(x);\n",
    "print(\"\\n\");"
   ]
  },
  {
   "cell_type": "code",
   "execution_count": 2,
   "metadata": {},
   "outputs": [
    {
     "output_type": "stream",
     "name": "stdout",
     "text": [
      "The steps of the Find-s algorithm are\n ['%', '%', '%', '%', '%', '%']\n['Sunny', 'Warm', 'Normal', 'Strong', 'Warm', 'Same']\n['Sunny', 'Warm', '?', 'Strong', 'Warm', 'Same']\n['Sunny', 'Warm', '?', 'Strong', '?', '?']\n['Sunny', 'Warm', '?', 'Strong', '?', '?']\n['Sunny', 'Warm', '?', 'Strong', '?', '?']\n['?', 'Warm', '?', 'Strong', '?', '?']\n['?', 'Warm', '?', 'Strong', '?', '?']\n['?', 'Warm', '?', '?', '?', '?']\n['?', 'Warm', '?', '?', '?', '?']\n"
     ]
    }
   ],
   "source": [
    "TotalExamples = len(data);\n",
    "i=0;\n",
    "j=0;\n",
    "k=0;\n",
    "print(\"The steps of the Find-s algorithm are\\n\",hypo);\n",
    "\n",
    "list = [];\n",
    "p=0;\n",
    "d=len(data[p])-1;\n",
    "\n",
    "for j in range(d):\n",
    "    list.append(data[i][j]);\n",
    "hypo=list;\n",
    "i=1;\n",
    "\n",
    "for i in range(TotalExamples):\n",
    "    for k in range(d):\n",
    "        if hypo[k]!=data[i][k]:\n",
    "            hypo[k]='?';\n",
    "            k=k+1;\n",
    "        else:\n",
    "            hypo[k];\n",
    "    print(hypo);\n",
    "    i=i+1;"
   ]
  },
  {
   "cell_type": "code",
   "execution_count": 3,
   "metadata": {},
   "outputs": [
    {
     "output_type": "stream",
     "name": "stdout",
     "text": [
      "\nThe maximally specific Find-s hypothesis for the given training examples is\n['?', 'Warm', '?', '?', '?', '?']\n"
     ]
    }
   ],
   "source": [
    "print(\"\\nThe maximally specific Find-s hypothesis for the given training examples is\");\n",
    "\n",
    "list=[];\n",
    "\n",
    "for i in range(d):\n",
    "    list.append(hypo[i]);\n",
    "print(list);"
   ]
  }
 ]
}