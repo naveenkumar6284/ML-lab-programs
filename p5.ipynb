{
 "metadata": {
  "language_info": {
   "codemirror_mode": {
    "name": "ipython",
    "version": 3
   },
   "file_extension": ".py",
   "mimetype": "text/x-python",
   "name": "python",
   "nbconvert_exporter": "python",
   "pygments_lexer": "ipython3",
   "version": "3.7.4-final"
  },
  "orig_nbformat": 2,
  "kernelspec": {
   "name": "python3",
   "display_name": "Python 3"
  }
 },
 "nbformat": 4,
 "nbformat_minor": 2,
 "cells": [
  {
   "cell_type": "code",
   "execution_count": 1,
   "metadata": {},
   "outputs": [],
   "source": [
    "import math\n",
    "import statistics as st\n",
    "from sklearn.model_selection import train_test_split\n",
    "import pandas as pd "
   ]
  },
  {
   "cell_type": "code",
   "execution_count": 2,
   "metadata": {},
   "outputs": [],
   "source": [
    "def summarizeByClass(x_tr,y_tr):    \n",
    "    separated = {}  \n",
    "    for i in range(len(x_train)):\n",
    "        x, y = x_tr[i],y_tr[i]\n",
    "        if (y not in separated):\n",
    "            separated[y] = []\n",
    "        separated[y].append(x)    \n",
    "    \n",
    "    summary = {} \n",
    "    for lbl, subset in separated.items():    \n",
    "        summary[lbl] = [ (st.mean(attribute), st.stdev(attribute)) \n",
    "                         for attribute in zip(*subset)];  \n",
    "    return summary"
   ]
  },
  {
   "cell_type": "code",
   "execution_count": 3,
   "metadata": {},
   "outputs": [],
   "source": [
    "def estimateProbability(x, mean, stdev):\n",
    "    exponent = math.exp(-(math.pow(x-mean,2)/(2*math.pow(stdev,2))))\n",
    "    return (1 / (math.sqrt(2*math.pi) * stdev)) * exponent"
   ]
  },
  {
   "cell_type": "code",
   "execution_count": 4,
   "metadata": {},
   "outputs": [],
   "source": [
    "def predict(summaries, testVector):\n",
    "    bestLabel, bestProb = None, -1\n",
    "    p = {}\n",
    "    for lbl, mean_std in summaries.items():\n",
    "        p[lbl] = 1\n",
    "        for i in range(len(mean_std)):\n",
    "            mean, stdev = mean_std[i] \n",
    "            x = testVector[i]\n",
    "            p[lbl] *= estimateProbability(x, mean, stdev);\n",
    "            \n",
    "        if bestLabel is None or p[lbl] > bestProb:\n",
    "            bestProb = p[lbl]\n",
    "            bestLabel = lbl\n",
    "    return bestLabel"
   ]
  },
  {
   "cell_type": "code",
   "execution_count": 5,
   "metadata": {},
   "outputs": [],
   "source": [
    "def do_classification_compute_accuracy(summaries, test_x, test_y):\n",
    "    correct = 0\n",
    "    for i in range(len(test_x)):\n",
    "        result = predict(summaries, test_x[i])\n",
    "        if result == test_y[i]:\n",
    "            correct = correct + 1\n",
    "    accuracy = (correct/float(len(test_x))) * 100.0\n",
    "    return accuracy"
   ]
  },
  {
   "cell_type": "code",
   "execution_count": 6,
   "metadata": {},
   "outputs": [
    {
     "output_type": "stream",
     "name": "stdout",
     "text": [
      "Dataset loaded...\nTotal instances available : 14\nTotal attributes present  : 4\nFirst Five instances of dataset:\n1 : [1, 1, 1, 1]\n2 : [1, 1, 1, 2]\n3 : [2, 1, 1, 1]\n4 : [3, 2, 1, 1]\n5 : [3, 3, 2, 1]\n6 : [3, 3, 2, 2]\n7 : [4, 3, 2, 2]\n8 : [1, 2, 1, 1]\n9 : [1, 3, 2, 1]\n10 : [3, 2, 2, 1]\n11 : [1, 2, 2, 2]\n12 : [3, 2, 1, 2]\n13 : [3, 1, 2, 1]\n14 : [3, 2, 1, 2]\n\nDataset is split into training and testing set.\nTraining examples = 12 \nTesting examples  = 2\n\nAccuracy of the Naive Baysian Classifier is : 100.0\n"
     ]
    }
   ],
   "source": [
    "df=pd.read_csv('program5.csv',header=None)\n",
    "cols = [0,1,2,3]\n",
    "df_x = df[df.columns[cols]]\n",
    "df_y = df[df.columns[4]]\n",
    "\n",
    "X = df_x.values.tolist()\n",
    "Y = df_y.values.tolist()\n",
    "\n",
    "x_train, x_test, y_train, y_test = train_test_split(X,Y,test_size=0.10,random_state=1)\n",
    "\n",
    "\n",
    "print('Dataset loaded...')\n",
    "print('Total instances available :',len(X))\n",
    "print('Total attributes present  :',len(X[0]))\n",
    "print(\"First Five instances of dataset:\")\n",
    "for i in range(14):\n",
    "    print(i+1 , ':' , X[i])\n",
    "        \n",
    "print('\\nDataset is split into training and testing set.')\n",
    "print('Training examples = {0} \\nTesting examples  = {1}'.format(len(x_train), len(x_test)))\n",
    "\n",
    "summaries = summarizeByClass(x_train,y_train);\n",
    "accuracy = do_classification_compute_accuracy(summaries,x_test,y_test)\n",
    "\n",
    "print('\\nAccuracy of the Naive Baysian Classifier is :', accuracy)"
   ]
  }
 ]
}